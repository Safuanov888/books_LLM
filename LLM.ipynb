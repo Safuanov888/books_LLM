{
 "cells": [
  {
   "cell_type": "markdown",
   "metadata": {
    "id": "RTVewrmuGbpH"
   },
   "source": [
    "# Цель: сгенерировать текст стилем автора, используя предобученную LLM"
   ]
  },
  {
   "cell_type": "code",
   "execution_count": 6,
   "metadata": {
    "id": "ZjMzo2BuRnU_"
   },
   "outputs": [],
   "source": [
    "import pandas as pd\n",
    "import numpy as np\n",
    "import matplotlib.pyplot as plt\n",
    "import seaborn as sns\n",
    "import torch\n",
    "import re\n",
    "\n",
    "from sklearn.model_selection import train_test_split\n",
    "from sklearn.preprocessing import StandardScaler, LabelEncoder\n",
    "\n",
    "from warnings import filterwarnings\n",
    "filterwarnings('ignore')\n",
    "\n",
    "sns.set_style('darkgrid')\n",
    "\n",
    "if torch.cuda.is_available():\n",
    "    device = torch.device(\"cuda\")\n",
    "    print(f\"Используется GPU: {torch.cuda.get_device_name(0)}\")"
   ]
  },
  {
   "cell_type": "markdown",
   "metadata": {},
   "source": [
    "## Доп. библиотеки "
   ]
  },
  {
   "cell_type": "code",
   "execution_count": 2,
   "metadata": {
    "execution": {
     "iopub.execute_input": "2025-03-18T20:57:35.282354Z",
     "iopub.status.busy": "2025-03-18T20:57:35.281811Z",
     "iopub.status.idle": "2025-03-18T20:57:51.128008Z",
     "shell.execute_reply": "2025-03-18T20:57:51.127107Z",
     "shell.execute_reply.started": "2025-03-18T20:57:35.282322Z"
    }
   },
   "outputs": [
    {
     "name": "stdout",
     "output_type": "stream",
     "text": [
      "Collecting Spire.Doc\n",
      "  Downloading Spire.Doc-13.1.0-py3-none-manylinux1_x86_64.whl.metadata (14 kB)\n",
      "Collecting transformers==4.21.0\n",
      "  Downloading transformers-4.21.0-py3-none-any.whl.metadata (81 kB)\n",
      "\u001b[2K     \u001b[90m━━━━━━━━━━━━━━━━━━━━━━━━━━━━━━━━━━━━━━━━\u001b[0m \u001b[32m82.0/82.0 kB\u001b[0m \u001b[31m2.8 MB/s\u001b[0m eta \u001b[36m0:00:00\u001b[0m\n",
      "\u001b[?25hCollecting tokenizers==0.12.1\n",
      "  Downloading tokenizers-0.12.1-cp310-cp310-manylinux_2_12_x86_64.manylinux2010_x86_64.whl.metadata (6.5 kB)\n",
      "Collecting sacremoses\n",
      "  Downloading sacremoses-0.1.1-py3-none-any.whl.metadata (8.3 kB)\n",
      "Collecting evaluate\n",
      "  Downloading evaluate-0.4.3-py3-none-any.whl.metadata (9.2 kB)\n",
      "Collecting bert_score\n",
      "  Downloading bert_score-0.3.13-py3-none-any.whl.metadata (15 kB)\n",
      "Requirement already satisfied: datasets in /usr/local/lib/python3.10/dist-packages (3.3.1)\n",
      "Collecting datasets\n",
      "  Downloading datasets-3.4.1-py3-none-any.whl.metadata (19 kB)\n",
      "Requirement already satisfied: filelock in /usr/local/lib/python3.10/dist-packages (from transformers==4.21.0) (3.17.0)\n",
      "Requirement already satisfied: huggingface-hub<1.0,>=0.1.0 in /usr/local/lib/python3.10/dist-packages (from transformers==4.21.0) (0.29.0)\n",
      "Requirement already satisfied: numpy>=1.17 in /usr/local/lib/python3.10/dist-packages (from transformers==4.21.0) (1.26.4)\n",
      "Requirement already satisfied: packaging>=20.0 in /usr/local/lib/python3.10/dist-packages (from transformers==4.21.0) (24.2)\n",
      "Requirement already satisfied: pyyaml>=5.1 in /usr/local/lib/python3.10/dist-packages (from transformers==4.21.0) (6.0.2)\n",
      "Requirement already satisfied: regex!=2019.12.17 in /usr/local/lib/python3.10/dist-packages (from transformers==4.21.0) (2024.11.6)\n",
      "Requirement already satisfied: requests in /usr/local/lib/python3.10/dist-packages (from transformers==4.21.0) (2.32.3)\n",
      "Requirement already satisfied: tqdm>=4.27 in /usr/local/lib/python3.10/dist-packages (from transformers==4.21.0) (4.67.1)\n",
      "Collecting plum-dispatch==1.7.4 (from Spire.Doc)\n",
      "  Downloading plum_dispatch-1.7.4-py3-none-any.whl.metadata (1.8 kB)\n",
      "Requirement already satisfied: click in /usr/local/lib/python3.10/dist-packages (from sacremoses) (8.1.7)\n",
      "Requirement already satisfied: joblib in /usr/local/lib/python3.10/dist-packages (from sacremoses) (1.4.2)\n",
      "Requirement already satisfied: dill in /usr/local/lib/python3.10/dist-packages (from evaluate) (0.3.8)\n",
      "Requirement already satisfied: pandas in /usr/local/lib/python3.10/dist-packages (from evaluate) (2.2.3)\n",
      "Requirement already satisfied: xxhash in /usr/local/lib/python3.10/dist-packages (from evaluate) (3.5.0)\n",
      "Requirement already satisfied: multiprocess in /usr/local/lib/python3.10/dist-packages (from evaluate) (0.70.16)\n",
      "Requirement already satisfied: fsspec>=2021.05.0 in /usr/local/lib/python3.10/dist-packages (from fsspec[http]>=2021.05.0->evaluate) (2024.12.0)\n",
      "Requirement already satisfied: torch>=1.0.0 in /usr/local/lib/python3.10/dist-packages (from bert_score) (2.5.1+cu121)\n",
      "Requirement already satisfied: matplotlib in /usr/local/lib/python3.10/dist-packages (from bert_score) (3.7.5)\n",
      "Requirement already satisfied: pyarrow>=15.0.0 in /usr/local/lib/python3.10/dist-packages (from datasets) (19.0.1)\n",
      "Requirement already satisfied: aiohttp in /usr/local/lib/python3.10/dist-packages (from datasets) (3.11.12)\n",
      "Requirement already satisfied: aiohappyeyeballs>=2.3.0 in /usr/local/lib/python3.10/dist-packages (from aiohttp->datasets) (2.4.6)\n",
      "Requirement already satisfied: aiosignal>=1.1.2 in /usr/local/lib/python3.10/dist-packages (from aiohttp->datasets) (1.3.2)\n",
      "Requirement already satisfied: async-timeout<6.0,>=4.0 in /usr/local/lib/python3.10/dist-packages (from aiohttp->datasets) (5.0.1)\n",
      "Requirement already satisfied: attrs>=17.3.0 in /usr/local/lib/python3.10/dist-packages (from aiohttp->datasets) (25.1.0)\n",
      "Requirement already satisfied: frozenlist>=1.1.1 in /usr/local/lib/python3.10/dist-packages (from aiohttp->datasets) (1.5.0)\n",
      "Requirement already satisfied: multidict<7.0,>=4.5 in /usr/local/lib/python3.10/dist-packages (from aiohttp->datasets) (6.1.0)\n",
      "Requirement already satisfied: propcache>=0.2.0 in /usr/local/lib/python3.10/dist-packages (from aiohttp->datasets) (0.2.1)\n",
      "Requirement already satisfied: yarl<2.0,>=1.17.0 in /usr/local/lib/python3.10/dist-packages (from aiohttp->datasets) (1.18.3)\n",
      "Requirement already satisfied: typing-extensions>=3.7.4.3 in /usr/local/lib/python3.10/dist-packages (from huggingface-hub<1.0,>=0.1.0->transformers==4.21.0) (4.12.2)\n",
      "Requirement already satisfied: mkl_fft in /usr/local/lib/python3.10/dist-packages (from numpy>=1.17->transformers==4.21.0) (1.3.8)\n",
      "Requirement already satisfied: mkl_random in /usr/local/lib/python3.10/dist-packages (from numpy>=1.17->transformers==4.21.0) (1.2.4)\n",
      "Requirement already satisfied: mkl_umath in /usr/local/lib/python3.10/dist-packages (from numpy>=1.17->transformers==4.21.0) (0.1.1)\n",
      "Requirement already satisfied: mkl in /usr/local/lib/python3.10/dist-packages (from numpy>=1.17->transformers==4.21.0) (2025.0.1)\n",
      "Requirement already satisfied: tbb4py in /usr/local/lib/python3.10/dist-packages (from numpy>=1.17->transformers==4.21.0) (2022.0.0)\n",
      "Requirement already satisfied: mkl-service in /usr/local/lib/python3.10/dist-packages (from numpy>=1.17->transformers==4.21.0) (2.4.1)\n",
      "Requirement already satisfied: python-dateutil>=2.8.2 in /usr/local/lib/python3.10/dist-packages (from pandas->evaluate) (2.9.0.post0)\n",
      "Requirement already satisfied: pytz>=2020.1 in /usr/local/lib/python3.10/dist-packages (from pandas->evaluate) (2025.1)\n",
      "Requirement already satisfied: tzdata>=2022.7 in /usr/local/lib/python3.10/dist-packages (from pandas->evaluate) (2025.1)\n",
      "Requirement already satisfied: charset-normalizer<4,>=2 in /usr/local/lib/python3.10/dist-packages (from requests->transformers==4.21.0) (3.4.1)\n",
      "Requirement already satisfied: idna<4,>=2.5 in /usr/local/lib/python3.10/dist-packages (from requests->transformers==4.21.0) (3.10)\n",
      "Requirement already satisfied: urllib3<3,>=1.21.1 in /usr/local/lib/python3.10/dist-packages (from requests->transformers==4.21.0) (2.3.0)\n",
      "Requirement already satisfied: certifi>=2017.4.17 in /usr/local/lib/python3.10/dist-packages (from requests->transformers==4.21.0) (2025.1.31)\n",
      "Requirement already satisfied: networkx in /usr/local/lib/python3.10/dist-packages (from torch>=1.0.0->bert_score) (3.4.2)\n",
      "Requirement already satisfied: jinja2 in /usr/local/lib/python3.10/dist-packages (from torch>=1.0.0->bert_score) (3.1.4)\n",
      "Requirement already satisfied: sympy==1.13.1 in /usr/local/lib/python3.10/dist-packages (from torch>=1.0.0->bert_score) (1.13.1)\n",
      "Requirement already satisfied: mpmath<1.4,>=1.1.0 in /usr/local/lib/python3.10/dist-packages (from sympy==1.13.1->torch>=1.0.0->bert_score) (1.3.0)\n",
      "Requirement already satisfied: contourpy>=1.0.1 in /usr/local/lib/python3.10/dist-packages (from matplotlib->bert_score) (1.3.1)\n",
      "Requirement already satisfied: cycler>=0.10 in /usr/local/lib/python3.10/dist-packages (from matplotlib->bert_score) (0.12.1)\n",
      "Requirement already satisfied: fonttools>=4.22.0 in /usr/local/lib/python3.10/dist-packages (from matplotlib->bert_score) (4.55.3)\n",
      "Requirement already satisfied: kiwisolver>=1.0.1 in /usr/local/lib/python3.10/dist-packages (from matplotlib->bert_score) (1.4.7)\n",
      "Requirement already satisfied: pillow>=6.2.0 in /usr/local/lib/python3.10/dist-packages (from matplotlib->bert_score) (11.0.0)\n",
      "Requirement already satisfied: pyparsing>=2.3.1 in /usr/local/lib/python3.10/dist-packages (from matplotlib->bert_score) (3.2.0)\n",
      "Requirement already satisfied: six>=1.5 in /usr/local/lib/python3.10/dist-packages (from python-dateutil>=2.8.2->pandas->evaluate) (1.17.0)\n",
      "Requirement already satisfied: MarkupSafe>=2.0 in /usr/local/lib/python3.10/dist-packages (from jinja2->torch>=1.0.0->bert_score) (3.0.2)\n",
      "Requirement already satisfied: intel-openmp>=2024 in /usr/local/lib/python3.10/dist-packages (from mkl->numpy>=1.17->transformers==4.21.0) (2024.2.0)\n",
      "Requirement already satisfied: tbb==2022.* in /usr/local/lib/python3.10/dist-packages (from mkl->numpy>=1.17->transformers==4.21.0) (2022.0.0)\n",
      "Requirement already satisfied: tcmlib==1.* in /usr/local/lib/python3.10/dist-packages (from tbb==2022.*->mkl->numpy>=1.17->transformers==4.21.0) (1.2.0)\n",
      "Requirement already satisfied: intel-cmplr-lib-rt in /usr/local/lib/python3.10/dist-packages (from mkl_umath->numpy>=1.17->transformers==4.21.0) (2024.2.0)\n",
      "Requirement already satisfied: intel-cmplr-lib-ur==2024.2.0 in /usr/local/lib/python3.10/dist-packages (from intel-openmp>=2024->mkl->numpy>=1.17->transformers==4.21.0) (2024.2.0)\n",
      "Downloading transformers-4.21.0-py3-none-any.whl (4.7 MB)\n",
      "\u001b[2K   \u001b[90m━━━━━━━━━━━━━━━━━━━━━━━━━━━━━━━━━━━━━━━━\u001b[0m \u001b[32m4.7/4.7 MB\u001b[0m \u001b[31m51.1 MB/s\u001b[0m eta \u001b[36m0:00:00\u001b[0m00:01\u001b[0m00:01\u001b[0m\n",
      "\u001b[?25hDownloading tokenizers-0.12.1-cp310-cp310-manylinux_2_12_x86_64.manylinux2010_x86_64.whl (6.6 MB)\n",
      "\u001b[2K   \u001b[90m━━━━━━━━━━━━━━━━━━━━━━━━━━━━━━━━━━━━━━━━\u001b[0m \u001b[32m6.6/6.6 MB\u001b[0m \u001b[31m78.0 MB/s\u001b[0m eta \u001b[36m0:00:00\u001b[0m:00:01\u001b[0m00:01\u001b[0m\n",
      "\u001b[?25hDownloading Spire.Doc-13.1.0-py3-none-manylinux1_x86_64.whl (44.1 MB)\n",
      "\u001b[2K   \u001b[90m━━━━━━━━━━━━━━━━━━━━━━━━━━━━━━━━━━━━━━━━\u001b[0m \u001b[32m44.1/44.1 MB\u001b[0m \u001b[31m36.6 MB/s\u001b[0m eta \u001b[36m0:00:00\u001b[0m:00:01\u001b[0m00:01\u001b[0m\n",
      "\u001b[?25hDownloading plum_dispatch-1.7.4-py3-none-any.whl (24 kB)\n",
      "Downloading sacremoses-0.1.1-py3-none-any.whl (897 kB)\n",
      "\u001b[2K   \u001b[90m━━━━━━━━━━━━━━━━━━━━━━━━━━━━━━━━━━━━━━━━\u001b[0m \u001b[32m897.5/897.5 kB\u001b[0m \u001b[31m43.1 MB/s\u001b[0m eta \u001b[36m0:00:00\u001b[0m\n",
      "\u001b[?25hDownloading evaluate-0.4.3-py3-none-any.whl (84 kB)\n",
      "\u001b[2K   \u001b[90m━━━━━━━━━━━━━━━━━━━━━━━━━━━━━━━━━━━━━━━━\u001b[0m \u001b[32m84.0/84.0 kB\u001b[0m \u001b[31m5.2 MB/s\u001b[0m eta \u001b[36m0:00:00\u001b[0m\n",
      "\u001b[?25hDownloading bert_score-0.3.13-py3-none-any.whl (61 kB)\n",
      "\u001b[2K   \u001b[90m━━━━━━━━━━━━━━━━━━━━━━━━━━━━━━━━━━━━━━━━\u001b[0m \u001b[32m61.1/61.1 kB\u001b[0m \u001b[31m3.8 MB/s\u001b[0m eta \u001b[36m0:00:00\u001b[0m\n",
      "\u001b[?25hDownloading datasets-3.4.1-py3-none-any.whl (487 kB)\n",
      "\u001b[2K   \u001b[90m━━━━━━━━━━━━━━━━━━━━━━━━━━━━━━━━━━━━━━━━\u001b[0m \u001b[32m487.4/487.4 kB\u001b[0m \u001b[31m27.5 MB/s\u001b[0m eta \u001b[36m0:00:00\u001b[0m\n",
      "\u001b[?25hInstalling collected packages: tokenizers, sacremoses, plum-dispatch, Spire.Doc, transformers, datasets, evaluate, bert_score\n",
      "  Attempting uninstall: tokenizers\n",
      "    Found existing installation: tokenizers 0.21.0\n",
      "    Uninstalling tokenizers-0.21.0:\n",
      "      Successfully uninstalled tokenizers-0.21.0\n",
      "  Attempting uninstall: transformers\n",
      "    Found existing installation: transformers 4.47.0\n",
      "    Uninstalling transformers-4.47.0:\n",
      "      Successfully uninstalled transformers-4.47.0\n",
      "  Attempting uninstall: datasets\n",
      "    Found existing installation: datasets 3.3.1\n",
      "    Uninstalling datasets-3.3.1:\n",
      "      Successfully uninstalled datasets-3.3.1\n",
      "\u001b[31mERROR: pip's dependency resolver does not currently take into account all the packages that are installed. This behaviour is the source of the following dependency conflicts.\n",
      "kaggle-environments 1.16.11 requires transformers>=4.33.1, but you have transformers 4.21.0 which is incompatible.\n",
      "sentence-transformers 3.3.1 requires transformers<5.0.0,>=4.41.0, but you have transformers 4.21.0 which is incompatible.\u001b[0m\u001b[31m\n",
      "\u001b[0mSuccessfully installed Spire.Doc-13.1.0 bert_score-0.3.13 datasets-3.4.1 evaluate-0.4.3 plum-dispatch-1.7.4 sacremoses-0.1.1 tokenizers-0.12.1 transformers-4.21.0\n"
     ]
    }
   ],
   "source": [
    "!pip install Spire.Doc transformers==4.21.0 tokenizers==0.12.1 -U sacremoses evaluate bert_score datasets"
   ]
  },
  {
   "cell_type": "markdown",
   "metadata": {
    "id": "NADRw4-lX66M"
   },
   "source": [
    "### Считываем все файлы"
   ]
  },
  {
   "cell_type": "code",
   "execution_count": 8,
   "metadata": {
    "colab": {
     "base_uri": "https://localhost:8080/"
    },
    "id": "eqvgdD6cbeMi",
    "outputId": "1ea0f603-28c2-46f3-a676-eb6b03e6985a"
   },
   "outputs": [],
   "source": [
    "#drive.mount(\"/content/drive\")"
   ]
  },
  {
   "cell_type": "markdown",
   "metadata": {
    "id": "CwiMjFeUSzwk"
   },
   "source": [
    "# Чтение текстов с файлов"
   ]
  },
  {
   "cell_type": "code",
   "execution_count": 2,
   "metadata": {},
   "outputs": [
    {
     "ename": "FileNotFoundError",
     "evalue": "[WinError 3] Системе не удается найти указанный путь: '\\\\kaggle\\\\input\\\\bolshakov-data\\\\new_data'",
     "output_type": "error",
     "traceback": [
      "\u001b[1;31m---------------------------------------------------------------------------\u001b[0m",
      "\u001b[1;31mFileNotFoundError\u001b[0m                         Traceback (most recent call last)",
      "Cell \u001b[1;32mIn [2], line 4\u001b[0m\n\u001b[0;32m      2\u001b[0m books \u001b[38;5;241m=\u001b[39m pathlib\u001b[38;5;241m.\u001b[39mPath(\u001b[38;5;124m\"\u001b[39m\u001b[38;5;124m/kaggle/input/bolshakov-data/new_data\u001b[39m\u001b[38;5;124m\"\u001b[39m)\n\u001b[0;32m      3\u001b[0m files_to_process \u001b[38;5;241m=\u001b[39m []\n\u001b[1;32m----> 4\u001b[0m \u001b[38;5;28;01mfor\u001b[39;00m book \u001b[38;5;129;01min\u001b[39;00m books\u001b[38;5;241m.\u001b[39miterdir():\n\u001b[0;32m      5\u001b[0m     files_to_process\u001b[38;5;241m.\u001b[39mappend(\u001b[38;5;28mstr\u001b[39m(book))\n",
      "File \u001b[1;32m~\\AppData\\Local\\Programs\\Python\\Python310\\lib\\pathlib.py:1017\u001b[0m, in \u001b[0;36mPath.iterdir\u001b[1;34m(self)\u001b[0m\n\u001b[0;32m   1013\u001b[0m \u001b[38;5;28;01mdef\u001b[39;00m \u001b[38;5;21miterdir\u001b[39m(\u001b[38;5;28mself\u001b[39m):\n\u001b[0;32m   1014\u001b[0m     \u001b[38;5;124;03m\"\"\"Iterate over the files in this directory.  Does not yield any\u001b[39;00m\n\u001b[0;32m   1015\u001b[0m \u001b[38;5;124;03m    result for the special paths '.' and '..'.\u001b[39;00m\n\u001b[0;32m   1016\u001b[0m \u001b[38;5;124;03m    \"\"\"\u001b[39;00m\n\u001b[1;32m-> 1017\u001b[0m     \u001b[38;5;28;01mfor\u001b[39;00m name \u001b[38;5;129;01min\u001b[39;00m \u001b[38;5;28;43mself\u001b[39;49m\u001b[38;5;241;43m.\u001b[39;49m\u001b[43m_accessor\u001b[49m\u001b[38;5;241;43m.\u001b[39;49m\u001b[43mlistdir\u001b[49m\u001b[43m(\u001b[49m\u001b[38;5;28;43mself\u001b[39;49m\u001b[43m)\u001b[49m:\n\u001b[0;32m   1018\u001b[0m         \u001b[38;5;28;01mif\u001b[39;00m name \u001b[38;5;129;01min\u001b[39;00m {\u001b[38;5;124m'\u001b[39m\u001b[38;5;124m.\u001b[39m\u001b[38;5;124m'\u001b[39m, \u001b[38;5;124m'\u001b[39m\u001b[38;5;124m..\u001b[39m\u001b[38;5;124m'\u001b[39m}:\n\u001b[0;32m   1019\u001b[0m             \u001b[38;5;66;03m# Yielding a path object for these makes little sense\u001b[39;00m\n\u001b[0;32m   1020\u001b[0m             \u001b[38;5;28;01mcontinue\u001b[39;00m\n",
      "\u001b[1;31mFileNotFoundError\u001b[0m: [WinError 3] Системе не удается найти указанный путь: '\\\\kaggle\\\\input\\\\bolshakov-data\\\\new_data'"
     ]
    }
   ],
   "source": [
    "import pathlib\n",
    "books = pathlib.Path(\"/kaggle/input/bolshakov-data/new_data\")\n",
    "files_to_process = []\n",
    "for book in books.iterdir():\n",
    "    files_to_process.append(str(book))"
   ]
  },
  {
   "cell_type": "code",
   "execution_count": 80,
   "metadata": {
    "execution": {
     "iopub.execute_input": "2025-03-17T20:59:16.169093Z",
     "iopub.status.busy": "2025-03-17T20:59:16.168799Z",
     "iopub.status.idle": "2025-03-17T20:59:16.173904Z",
     "shell.execute_reply": "2025-03-17T20:59:16.173134Z",
     "shell.execute_reply.started": "2025-03-17T20:59:16.169071Z"
    }
   },
   "outputs": [
    {
     "data": {
      "text/plain": [
       "'/kaggle/input/bolshakov-data/new_data/Pril.rtf'"
      ]
     },
     "execution_count": 80,
     "metadata": {},
     "output_type": "execute_result"
    }
   ],
   "source": [
    "files_to_process[0]"
   ]
  },
  {
   "cell_type": "markdown",
   "metadata": {},
   "source": [
    "# Просмотр и обработка текстов"
   ]
  },
  {
   "cell_type": "code",
   "execution_count": 10,
   "metadata": {
    "id": "-Mos55_CSgsk"
   },
   "outputs": [
    {
     "ename": "ModuleNotFoundError",
     "evalue": "No module named 'spire'",
     "output_type": "error",
     "traceback": [
      "\u001b[1;31m---------------------------------------------------------------------------\u001b[0m",
      "\u001b[1;31mModuleNotFoundError\u001b[0m                       Traceback (most recent call last)",
      "Cell \u001b[1;32mIn [10], line 1\u001b[0m\n\u001b[1;32m----> 1\u001b[0m \u001b[38;5;28;01mfrom\u001b[39;00m \u001b[38;5;21;01mspire\u001b[39;00m\u001b[38;5;21;01m.\u001b[39;00m\u001b[38;5;21;01mdoc\u001b[39;00m \u001b[38;5;28;01mimport\u001b[39;00m \u001b[38;5;241m*\u001b[39m\n\u001b[0;32m      2\u001b[0m \u001b[38;5;28;01mfrom\u001b[39;00m \u001b[38;5;21;01mspire\u001b[39;00m\u001b[38;5;21;01m.\u001b[39;00m\u001b[38;5;21;01mdoc\u001b[39;00m\u001b[38;5;21;01m.\u001b[39;00m\u001b[38;5;21;01mcommon\u001b[39;00m \u001b[38;5;28;01mimport\u001b[39;00m \u001b[38;5;241m*\u001b[39m\n\u001b[0;32m      3\u001b[0m \u001b[38;5;28;01mfrom\u001b[39;00m \u001b[38;5;21;01mtransformers\u001b[39;00m \u001b[38;5;28;01mimport\u001b[39;00m T5ForConditionalGeneration, T5Tokenizer\n",
      "\u001b[1;31mModuleNotFoundError\u001b[0m: No module named 'spire'"
     ]
    }
   ],
   "source": [
    "from spire.doc import *\n",
    "from spire.doc.common import *\n",
    "from transformers import T5ForConditionalGeneration, T5Tokenizer\n",
    "tokenizer_t5 = T5Tokenizer.from_pretrained(\"cointegrated/rut5-base-paraphraser\")"
   ]
  },
  {
   "cell_type": "code",
   "execution_count": 11,
   "metadata": {},
   "outputs": [],
   "source": [
    "def split_into_chunks(text, max_tokens=512):\n",
    "    \"\"\"\n",
    "    Разбивает текст на чанки по max_tokens токенов, сохраняя границы предложений.\n",
    "    \"\"\"\n",
    "    sentences = re.split(r'(?<=[.!?]) +', text)  \n",
    "    \n",
    "    chunks = []\n",
    "    current_chunk = []\n",
    "    current_length = 0\n",
    "\n",
    "    for sent in sentences:\n",
    "        sent_tokens = tokenizer_t5.tokenize(sent)\n",
    "        sent_token_count = len(sent_tokens)\n",
    "\n",
    "        if sent_token_count > max_tokens:\n",
    "            for i in range(0, sent_token_count, max_tokens):\n",
    "                chunk = tokenizer_t5.convert_tokens_to_string(sent_tokens[i:i+max_tokens])\n",
    "                chunks.append(chunk)\n",
    "            continue\n",
    "\n",
    "        if current_length + sent_token_count > max_tokens:\n",
    "            chunks.append(\" \".join(current_chunk))\n",
    "            current_chunk = []\n",
    "            current_length = 0\n",
    "\n",
    "        current_chunk.append(sent)\n",
    "        current_length += sent_token_count\n",
    "\n",
    "    if current_chunk:\n",
    "        chunks.append(\" \".join(current_chunk))\n",
    "\n",
    "    return chunks"
   ]
  },
  {
   "cell_type": "code",
   "execution_count": 77,
   "metadata": {
    "execution": {
     "iopub.execute_input": "2025-03-17T20:57:50.277341Z",
     "iopub.status.busy": "2025-03-17T20:57:50.276994Z",
     "iopub.status.idle": "2025-03-17T20:57:50.282936Z",
     "shell.execute_reply": "2025-03-17T20:57:50.281920Z",
     "shell.execute_reply.started": "2025-03-17T20:57:50.277313Z"
    }
   },
   "outputs": [],
   "source": [
    "def clean_doc_and_get_chunks(file):\n",
    "    doc = Document()\n",
    "    doc.LoadFromFile(file)\n",
    "    text = doc.GetText()\n",
    "    text = text.replace('Evaluation Warning: The document was created with Spire.Doc for Python.', '')\n",
    "    text = text.replace('\\t', '')\n",
    "    clean_text = re.sub(\n",
    "        r'\\d+\\r\\n|\\r\\n|\\x0c|УДК.*|ББК.*|Издание.*|– М.*|ISBN.*|©.*',\n",
    "        '\\n', \n",
    "        text\n",
    "    )\n",
    "    final_chunks = []\n",
    "    paragraphs = [p.strip() for p in clean_text.split('\\n') if p.strip()]\n",
    "    for paragraph in paragraphs:\n",
    "        if len(paragraph) < 100:\n",
    "            continue\n",
    "        chunks = split_into_chunks(paragraph)\n",
    "        final_chunks.extend(chunks)\n",
    "    return final_chunks"
   ]
  },
  {
   "cell_type": "code",
   "execution_count": 86,
   "metadata": {
    "execution": {
     "iopub.execute_input": "2025-03-17T21:00:24.403540Z",
     "iopub.status.busy": "2025-03-17T21:00:24.403158Z",
     "iopub.status.idle": "2025-03-17T21:00:24.565808Z",
     "shell.execute_reply": "2025-03-17T21:00:24.565152Z",
     "shell.execute_reply.started": "2025-03-17T21:00:24.403493Z"
    }
   },
   "outputs": [],
   "source": [
    "textes = clean_doc_and_get_chunks(files_to_process[0])"
   ]
  },
  {
   "cell_type": "code",
   "execution_count": 88,
   "metadata": {
    "colab": {
     "base_uri": "https://localhost:8080/",
     "height": 139
    },
    "execution": {
     "iopub.execute_input": "2025-03-17T21:00:36.037126Z",
     "iopub.status.busy": "2025-03-17T21:00:36.036701Z",
     "iopub.status.idle": "2025-03-17T21:00:36.053894Z",
     "shell.execute_reply": "2025-03-17T21:00:36.053065Z",
     "shell.execute_reply.started": "2025-03-17T21:00:36.037083Z"
    },
    "id": "8QobKc2WamVc",
    "outputId": "d8296df2-d412-4bff-9181-af97014cf9cf"
   },
   "outputs": [
    {
     "name": "stdout",
     "output_type": "stream",
     "text": [
      "Часть 1, токенов: 375\n",
      "В функционировании социально-политических систем первостепенную роль играют обратные связи. Более того, любые системы с самоорганизацией способны успешно функционировать лишь при наличии соответствующ...\n",
      "\n",
      "Часть 2, токенов: 183\n",
      "Кратко напомним, что такое управление с обратными связями и какие обратные связи существуют. Под управлением с обратной связью понимают такое управление, когда результаты процесса воздействуют на его ...\n",
      "\n",
      "Часть 3, токенов: 230\n",
      "Стимулирующие обратные связи делят на положительные и отрицательные в зависимости от того, усиливают или ослабляют они управляемый  процесс. Положительная обратная связь приводит ко все большему откло...\n",
      "\n",
      "Часть 4, токенов: 127\n",
      "Общий для всех систем способ их организации прост: на выходе какого-либо процесса (иногда в специальном элементе сравнения) сравниваются заранее запланированный и реально достигнутый результаты. Сигна...\n",
      "\n",
      "Часть 5, токенов: 188\n",
      "Обратные связи могут осуществляться как с помощью специализированных элементов для осуществления обратной связи, предусмотренных в системе, так и без них. В соответствии с этим обратные связи называют...\n",
      "\n",
      "Часть 6, токенов: 172\n",
      "Надо сразу заметить, что в социально-политической системе общая обратная связь, которая, подобно арбитру, призвана следить за поведением системы в целом, должна быть в некотором смысле вне системы, бы...\n",
      "\n",
      "Часть 7, токенов: 83\n",
      "Практика повседневной жизни свидетельствует, что сплошь и рядом люди знают реальное положение дел, во многом понимают, что и как надо делать для улучшения ситуации в стране, обладают всей необходимой ...\n",
      "\n",
      "Часть 8, токенов: 157\n",
      "Очевидно, все дело здесь в том, что существуют интересы отдельных личностей, групп и корпораций, которым зачастую при принятии решений отдается предпочтение перед интересами всего общества. Как же бор...\n",
      "\n",
      "Часть 9, токенов: 71\n",
      "Охватить все нюансы жизни, все зарегламентировать правовыми нормами тоже невозможно. Чтобы социально-политическая система функционировала как живой организм, без деформаций и катастроф, своевременно и...\n",
      "\n",
      "Часть 10, токенов: 133\n",
      "Для большей четкости дальнейшего изложения введем понятия первичных и вторичных интересов. Под первичными будем понимать интересы, непосредственно связанные с удовлетворением человеческих потребностей...\n",
      "\n",
      "Часть 11, токенов: 92\n",
      "Используя эту терминологию, можно сказать, что стимулирующие обратные связи в социально-политических системах своими стимулами или санкциями воздействуют на удовлетворение первичных интересов, поощряя...\n",
      "\n"
     ]
    }
   ],
   "source": [
    "for i, chunk in enumerate(final_chunks):\n",
    "    if i <= 10:\n",
    "        print(f\"Часть {i+1}, токенов: {len(tokenizer_t5.tokenize(chunk))}\")\n",
    "        print(chunk[:200] + \"...\\n\")"
   ]
  },
  {
   "cell_type": "markdown",
   "metadata": {
    "id": "9U2W9wWt6u7J"
   },
   "source": [
    "# Генерирование тестовой выборки с помощью перефразеров\n",
    "\n"
   ]
  },
  {
   "cell_type": "markdown",
   "metadata": {
    "id": "Th9umlekbSzl"
   },
   "source": [
    "## Функция переплексии - метрика, которая вычисляет схожесть текстов по смыслу, применяя модель Сбера"
   ]
  },
  {
   "cell_type": "code",
   "execution_count": 9,
   "metadata": {
    "id": "xsFn_Q7iSi0V"
   },
   "outputs": [],
   "source": [
    "from transformers import AutoModelForCausalLM, AutoTokenizer\n",
    "from tqdm.auto import tqdm"
   ]
  },
  {
   "cell_type": "code",
   "execution_count": null,
   "metadata": {
    "id": "BHNKRPazSi6c"
   },
   "outputs": [
    {
     "data": {
      "application/vnd.jupyter.widget-view+json": {
       "model_id": "f7488dc502f944b994eea00d19702f67",
       "version_major": 2,
       "version_minor": 0
      },
      "text/plain": [
       "tokenizer_config.json:   0%|          | 0.00/1.25k [00:00<?, ?B/s]"
      ]
     },
     "metadata": {},
     "output_type": "display_data"
    },
    {
     "data": {
      "application/vnd.jupyter.widget-view+json": {
       "model_id": "a32352db968f4767adb0dd55321484c8",
       "version_major": 2,
       "version_minor": 0
      },
      "text/plain": [
       "vocab.json:   0%|          | 0.00/1.71M [00:00<?, ?B/s]"
      ]
     },
     "metadata": {},
     "output_type": "display_data"
    },
    {
     "data": {
      "application/vnd.jupyter.widget-view+json": {
       "model_id": "3fcd15ba1cc14c19a360814c69a7397a",
       "version_major": 2,
       "version_minor": 0
      },
      "text/plain": [
       "merges.txt:   0%|          | 0.00/1.27M [00:00<?, ?B/s]"
      ]
     },
     "metadata": {},
     "output_type": "display_data"
    },
    {
     "data": {
      "application/vnd.jupyter.widget-view+json": {
       "model_id": "ec32304bb8f64e75a258e1ef41721f8c",
       "version_major": 2,
       "version_minor": 0
      },
      "text/plain": [
       "special_tokens_map.json:   0%|          | 0.00/574 [00:00<?, ?B/s]"
      ]
     },
     "metadata": {},
     "output_type": "display_data"
    },
    {
     "data": {
      "application/vnd.jupyter.widget-view+json": {
       "model_id": "4852db96a3b34ae39dc493037a611564",
       "version_major": 2,
       "version_minor": 0
      },
      "text/plain": [
       "config.json:   0%|          | 0.00/720 [00:00<?, ?B/s]"
      ]
     },
     "metadata": {},
     "output_type": "display_data"
    }
   ],
   "source": [
    "mname = 'ai-forever/rugpt3small_based_on_gpt2'\n",
    "gpt_tokenizer = AutoTokenizer.from_pretrained(mname)\n",
    "gpt_model = AutoModelForCausalLM.from_pretrained(mname)\n",
    "gpt_model.cuda();"
   ]
  },
  {
   "cell_type": "code",
   "execution_count": 38,
   "metadata": {
    "execution": {
     "iopub.execute_input": "2025-03-18T20:11:31.626531Z",
     "iopub.status.busy": "2025-03-18T20:11:31.626230Z",
     "iopub.status.idle": "2025-03-18T20:11:31.632200Z",
     "shell.execute_reply": "2025-03-18T20:11:31.631535Z",
     "shell.execute_reply.started": "2025-03-18T20:11:31.626501Z"
    }
   },
   "outputs": [],
   "source": [
    "def get_gpt2_ppl_corpus(test_textes, aggregate=True, sep='\\n', max_length=1024):\n",
    "    lls, weights = [], []\n",
    "    for text in tqdm(test_textes):\n",
    "        encodings = gpt_tokenizer(f'{sep}{text}{sep}', return_tensors='pt', padding=True, truncation=True, max_length=max_length)\n",
    "        input_ids = encodings.input_ids.to(gpt_model.device)\n",
    "        target_ids = input_ids.clone()\n",
    "\n",
    "        w = max(0, len(input_ids[0]) - 1)\n",
    "        if w > 0:\n",
    "            with torch.no_grad():\n",
    "                output = gpt_model(input_ids, labels=target_ids)\n",
    "                likelihood = output[0]\n",
    "                ll = likelihood.item()\n",
    "        else:\n",
    "            ll = 0\n",
    "        lls.append(ll)\n",
    "        weights.append(w)\n",
    "    likelihoods, weights = np.array(lls), np.array(weights)\n",
    "    if aggregate:\n",
    "        return sum(likelihoods * weights) / sum(weights)\n",
    "    return likelihoods, weights"
   ]
  },
  {
   "cell_type": "markdown",
   "metadata": {},
   "source": [
    "------"
   ]
  },
  {
   "cell_type": "markdown",
   "metadata": {},
   "source": [
    "## BLEU "
   ]
  },
  {
   "cell_type": "code",
   "execution_count": 39,
   "metadata": {
    "execution": {
     "iopub.execute_input": "2025-03-18T20:11:47.526695Z",
     "iopub.status.busy": "2025-03-18T20:11:47.526395Z",
     "iopub.status.idle": "2025-03-18T20:11:47.530269Z",
     "shell.execute_reply": "2025-03-18T20:11:47.529423Z",
     "shell.execute_reply.started": "2025-03-18T20:11:47.526672Z"
    }
   },
   "outputs": [],
   "source": [
    "from nltk.translate.bleu_score import sentence_bleu"
   ]
  },
  {
   "cell_type": "markdown",
   "metadata": {},
   "source": [
    "------------"
   ]
  },
  {
   "cell_type": "markdown",
   "metadata": {},
   "source": [
    "## BERTScore"
   ]
  },
  {
   "cell_type": "code",
   "execution_count": 14,
   "metadata": {
    "execution": {
     "iopub.execute_input": "2025-03-18T19:55:38.791747Z",
     "iopub.status.busy": "2025-03-18T19:55:38.791403Z",
     "iopub.status.idle": "2025-03-18T19:55:39.246285Z",
     "shell.execute_reply": "2025-03-18T19:55:39.245475Z",
     "shell.execute_reply.started": "2025-03-18T19:55:38.791714Z"
    }
   },
   "outputs": [],
   "source": [
    "from evaluate import load\n",
    "bertscore = load(\"bertscore\")"
   ]
  },
  {
   "cell_type": "markdown",
   "metadata": {},
   "source": [
    "## Валидация работы предобученной T5 на задаче перефразирования "
   ]
  },
  {
   "cell_type": "code",
   "execution_count": 14,
   "metadata": {
    "execution": {
     "iopub.execute_input": "2025-03-17T19:35:24.814781Z",
     "iopub.status.busy": "2025-03-17T19:35:24.814482Z",
     "iopub.status.idle": "2025-03-17T19:35:40.289128Z",
     "shell.execute_reply": "2025-03-17T19:35:40.288445Z",
     "shell.execute_reply.started": "2025-03-17T19:35:24.814758Z"
    }
   },
   "outputs": [
    {
     "data": {
      "application/vnd.jupyter.widget-view+json": {
       "model_id": "3ed475d221e84762a82249c7b11ac664",
       "version_major": 2,
       "version_minor": 0
      },
      "text/plain": [
       "Downloading config.json:   0%|          | 0.00/724 [00:00<?, ?B/s]"
      ]
     },
     "metadata": {},
     "output_type": "display_data"
    },
    {
     "data": {
      "application/vnd.jupyter.widget-view+json": {
       "model_id": "2aa7d1945a31456e98ced67d42f89e4b",
       "version_major": 2,
       "version_minor": 0
      },
      "text/plain": [
       "Downloading pytorch_model.bin:   0%|          | 0.00/932M [00:00<?, ?B/s]"
      ]
     },
     "metadata": {},
     "output_type": "display_data"
    }
   ],
   "source": [
    "model = T5ForConditionalGeneration.from_pretrained(\"cointegrated/rut5-base-paraphraser\").to(device)"
   ]
  },
  {
   "cell_type": "code",
   "execution_count": 23,
   "metadata": {
    "execution": {
     "iopub.execute_input": "2025-03-17T19:38:52.537945Z",
     "iopub.status.busy": "2025-03-17T19:38:52.537640Z",
     "iopub.status.idle": "2025-03-17T19:38:52.543848Z",
     "shell.execute_reply": "2025-03-17T19:38:52.543143Z",
     "shell.execute_reply.started": "2025-03-17T19:38:52.537921Z"
    }
   },
   "outputs": [
    {
     "data": {
      "text/plain": [
       "181"
      ]
     },
     "execution_count": 23,
     "metadata": {},
     "output_type": "execute_result"
    }
   ],
   "source": [
    "len(tokenizer_t5.tokenize(final_chunks[11]))"
   ]
  },
  {
   "cell_type": "code",
   "execution_count": 38,
   "metadata": {
    "execution": {
     "iopub.execute_input": "2025-03-17T20:18:44.946621Z",
     "iopub.status.busy": "2025-03-17T20:18:44.946227Z",
     "iopub.status.idle": "2025-03-17T20:18:44.951818Z",
     "shell.execute_reply": "2025-03-17T20:18:44.950916Z",
     "shell.execute_reply.started": "2025-03-17T20:18:44.946589Z"
    }
   },
   "outputs": [],
   "source": [
    "text = final_chunks[11]\n",
    "input_ids = tokenizer_t5.encode(\"paraphrase: \" + text, return_tensors=\"pt\").to(device)\n",
    "outputs = model.generate(\n",
    "    input_ids,\n",
    "    do_sample=True,           # ← Включить сэмплирование\n",
    "    temperature=1,          # Случайность (0.5-1.2)\n",
    "    top_k=50,                 # Ограничить выбор топ-50 токенами\n",
    "    top_p=0.95,               # Nucleus sampling\n",
    "    max_length=181+50,\n",
    "    min_length=181,\n",
    "    no_repeat_ngram_size=3\n",
    ")\n",
    "decoded = tokenizer_t5.decode(outputs[0], skip_special_tokens=True)"
   ]
  },
  {
   "cell_type": "code",
   "execution_count": 36,
   "metadata": {
    "execution": {
     "iopub.execute_input": "2025-03-17T19:46:33.577142Z",
     "iopub.status.busy": "2025-03-17T19:46:33.576842Z",
     "iopub.status.idle": "2025-03-17T19:46:33.582274Z",
     "shell.execute_reply": "2025-03-17T19:46:33.581537Z",
     "shell.execute_reply.started": "2025-03-17T19:46:33.577114Z"
    }
   },
   "outputs": [
    {
     "data": {
      "text/plain": [
       "'Таким образом, в результате правильно проведенного стимулирования контактов у людей, занимающихся управлениями, должно формироваться желание действовать не только в интересах личного, но и более широких объединений граждан (например, в акционерном обществе или корпорации), то есть появляется реальная возможность для оптимального согласования интересов своих и общественных организаций. Основная сила связей: отдельно взятое руководство и контролирует посторонние внешние объекты, которые должны работать против серьезных интересов и заинтересованных, иначе говоря. Очередь - значит, было преданное государствам. <b> Относительно темы и представлений на сайте является: <b] <p> <p</p> > <p]> [p>'"
      ]
     },
     "execution_count": 36,
     "metadata": {},
     "output_type": "execute_result"
    }
   ],
   "source": [
    "decoded"
   ]
  },
  {
   "cell_type": "code",
   "execution_count": 37,
   "metadata": {
    "execution": {
     "iopub.execute_input": "2025-03-17T19:46:33.584151Z",
     "iopub.status.busy": "2025-03-17T19:46:33.583714Z",
     "iopub.status.idle": "2025-03-17T19:46:33.595903Z",
     "shell.execute_reply": "2025-03-17T19:46:33.595186Z",
     "shell.execute_reply.started": "2025-03-17T19:46:33.584128Z"
    }
   },
   "outputs": [
    {
     "data": {
      "text/plain": [
       "'Правильная организация обратных связей должна приводить к модификации вторичных интересов, их коррекции в сторону общественно полезных, а не наоборот, как это происходит зачастую сейчас. Героем нашего времени стал не труженик, ученый, летчик или разведчик, а вор, обманщик, казнокрад и карточный жулик. С введением же правильно организованных стимулирующих обратных связей у человека, участвующего в организации управления, появляется желание действовать не только в личных интересах, но и в интересах более широких объединений граждан (например, в акционерном обществе или корпорации), т.е. появляется реальная возможность оптимального согласования своих и общественных интересов.'"
      ]
     },
     "execution_count": 37,
     "metadata": {},
     "output_type": "execute_result"
    }
   ],
   "source": [
    "final_chunks[11]"
   ]
  },
  {
   "cell_type": "code",
   "execution_count": 31,
   "metadata": {
    "execution": {
     "iopub.execute_input": "2025-03-17T19:41:28.961947Z",
     "iopub.status.busy": "2025-03-17T19:41:28.961656Z",
     "iopub.status.idle": "2025-03-17T19:41:38.467498Z",
     "shell.execute_reply": "2025-03-17T19:41:38.466472Z",
     "shell.execute_reply.started": "2025-03-17T19:41:28.961925Z"
    }
   },
   "outputs": [
    {
     "data": {
      "application/vnd.jupyter.widget-view+json": {
       "model_id": "508fbc40b232467c9e38c90162563cad",
       "version_major": 2,
       "version_minor": 0
      },
      "text/plain": [
       "  0%|          | 0/796 [00:00<?, ?it/s]"
      ]
     },
     "metadata": {},
     "output_type": "display_data"
    },
    {
     "name": "stdout",
     "output_type": "stream",
     "text": [
      "Значение переплекcии: 6.361718785554211\n"
     ]
    }
   ],
   "source": [
    "print(f'Значение переплекcии: {get_gpt2_ppl_corpus(decoded)}')"
   ]
  },
  {
   "cell_type": "markdown",
   "metadata": {},
   "source": [
    "## Сбор маленького датасета "
   ]
  },
  {
   "cell_type": "code",
   "execution_count": 72,
   "metadata": {
    "execution": {
     "iopub.execute_input": "2025-03-17T20:42:29.651122Z",
     "iopub.status.busy": "2025-03-17T20:42:29.650677Z",
     "iopub.status.idle": "2025-03-17T20:42:29.657096Z",
     "shell.execute_reply": "2025-03-17T20:42:29.656159Z",
     "shell.execute_reply.started": "2025-03-17T20:42:29.651081Z"
    }
   },
   "outputs": [],
   "source": [
    "def generate_text(file):\n",
    "    samples = []\n",
    "    for t in file:\n",
    "        min_len = len(tokenizer_t5.tokenize(t))\n",
    "        input_ids = tokenizer_t5.encode(\"paraphrase: \" + t, return_tensors=\"pt\").to(device)\n",
    "        outputs = model.generate(\n",
    "            input_ids,\n",
    "            do_sample=True,           # ← Включить сэмплирование\n",
    "            temperature=1,          # Случайность (0.5-1.2)\n",
    "            top_k=50,                 # Ограничить выбор топ-50 токенами\n",
    "            top_p=0.95,               # Nucleus sampling\n",
    "            max_length=min_len+50,\n",
    "            min_length=min_len,\n",
    "            no_repeat_ngram_size=3\n",
    "        )\n",
    "        decoded = tokenizer_t5.decode(outputs[0], skip_special_tokens=True)\n",
    "        samples.append(''.join(decoded))\n",
    "    return samples"
   ]
  },
  {
   "cell_type": "code",
   "execution_count": 89,
   "metadata": {
    "execution": {
     "iopub.execute_input": "2025-03-17T21:05:02.817662Z",
     "iopub.status.busy": "2025-03-17T21:05:02.817191Z",
     "iopub.status.idle": "2025-03-17T21:05:03.431795Z",
     "shell.execute_reply": "2025-03-17T21:05:03.431053Z",
     "shell.execute_reply.started": "2025-03-17T21:05:02.817624Z"
    }
   },
   "outputs": [],
   "source": [
    "file1 = clean_doc_and_get_chunks(files_to_process[0])\n",
    "file2 = clean_doc_and_get_chunks(files_to_process[1])\n",
    "file3 = clean_doc_and_get_chunks(files_to_process[2])"
   ]
  },
  {
   "cell_type": "code",
   "execution_count": 90,
   "metadata": {
    "execution": {
     "iopub.execute_input": "2025-03-17T21:09:17.739107Z",
     "iopub.status.busy": "2025-03-17T21:09:17.738771Z",
     "iopub.status.idle": "2025-03-17T21:27:42.667685Z",
     "shell.execute_reply": "2025-03-17T21:27:42.666583Z",
     "shell.execute_reply.started": "2025-03-17T21:09:17.739081Z"
    }
   },
   "outputs": [],
   "source": [
    "train_data_first_file = generate_text(file1)\n",
    "train_data_second_file = generate_text(file2)\n",
    "train_data_third_file = generate_text(file3)"
   ]
  },
  {
   "cell_type": "code",
   "execution_count": 98,
   "metadata": {
    "execution": {
     "iopub.execute_input": "2025-03-17T21:32:17.674152Z",
     "iopub.status.busy": "2025-03-17T21:32:17.673834Z",
     "iopub.status.idle": "2025-03-17T21:32:17.679250Z",
     "shell.execute_reply": "2025-03-17T21:32:17.678307Z",
     "shell.execute_reply.started": "2025-03-17T21:32:17.674126Z"
    }
   },
   "outputs": [
    {
     "data": {
      "text/plain": [
       "67"
      ]
     },
     "execution_count": 98,
     "metadata": {},
     "output_type": "execute_result"
    }
   ],
   "source": [
    "len(train_data_first_file)"
   ]
  },
  {
   "cell_type": "code",
   "execution_count": 99,
   "metadata": {
    "execution": {
     "iopub.execute_input": "2025-03-17T21:32:49.963581Z",
     "iopub.status.busy": "2025-03-17T21:32:49.963215Z",
     "iopub.status.idle": "2025-03-17T21:32:49.967971Z",
     "shell.execute_reply": "2025-03-17T21:32:49.967035Z",
     "shell.execute_reply.started": "2025-03-17T21:32:49.963551Z"
    }
   },
   "outputs": [],
   "source": [
    "finetuning_data = pd.DataFrame({'train': train_data_first_file + train_data_second_file + train_data_third_file, \n",
    "                                'target': file1 + file2 + file3\n",
    "                               }) "
   ]
  },
  {
   "cell_type": "code",
   "execution_count": 100,
   "metadata": {
    "execution": {
     "iopub.execute_input": "2025-03-17T21:32:51.860870Z",
     "iopub.status.busy": "2025-03-17T21:32:51.860583Z",
     "iopub.status.idle": "2025-03-17T21:32:51.865776Z",
     "shell.execute_reply": "2025-03-17T21:32:51.865056Z",
     "shell.execute_reply.started": "2025-03-17T21:32:51.860849Z"
    }
   },
   "outputs": [
    {
     "data": {
      "text/plain": [
       "(324, 2)"
      ]
     },
     "execution_count": 100,
     "metadata": {},
     "output_type": "execute_result"
    }
   ],
   "source": [
    "finetuning_data.shape"
   ]
  },
  {
   "cell_type": "code",
   "execution_count": 107,
   "metadata": {
    "execution": {
     "iopub.execute_input": "2025-03-17T21:42:07.000141Z",
     "iopub.status.busy": "2025-03-17T21:42:06.999865Z",
     "iopub.status.idle": "2025-03-17T21:42:07.016336Z",
     "shell.execute_reply": "2025-03-17T21:42:07.015731Z",
     "shell.execute_reply.started": "2025-03-17T21:42:07.000120Z"
    }
   },
   "outputs": [],
   "source": [
    "finetuning_data.to_csv('small_dataset.csv', sep=',', index=False, encoding='utf-8')"
   ]
  },
  {
   "cell_type": "code",
   "execution_count": 46,
   "metadata": {
    "execution": {
     "iopub.execute_input": "2025-03-18T20:49:35.928574Z",
     "iopub.status.busy": "2025-03-18T20:49:35.928259Z",
     "iopub.status.idle": "2025-03-18T20:49:35.956808Z",
     "shell.execute_reply": "2025-03-18T20:49:35.955824Z",
     "shell.execute_reply.started": "2025-03-18T20:49:35.928551Z"
    }
   },
   "outputs": [],
   "source": [
    "finetuning_data = pd.read_csv('/kaggle/input/bolshakov-small-dataset/small_dataset.csv')"
   ]
  },
  {
   "cell_type": "code",
   "execution_count": 47,
   "metadata": {
    "execution": {
     "iopub.execute_input": "2025-03-18T20:49:37.278795Z",
     "iopub.status.busy": "2025-03-18T20:49:37.278519Z",
     "iopub.status.idle": "2025-03-18T20:49:37.287368Z",
     "shell.execute_reply": "2025-03-18T20:49:37.286452Z",
     "shell.execute_reply.started": "2025-03-18T20:49:37.278775Z"
    }
   },
   "outputs": [
    {
     "data": {
      "text/html": [
       "<div>\n",
       "<style scoped>\n",
       "    .dataframe tbody tr th:only-of-type {\n",
       "        vertical-align: middle;\n",
       "    }\n",
       "\n",
       "    .dataframe tbody tr th {\n",
       "        vertical-align: top;\n",
       "    }\n",
       "\n",
       "    .dataframe thead th {\n",
       "        text-align: right;\n",
       "    }\n",
       "</style>\n",
       "<table border=\"1\" class=\"dataframe\">\n",
       "  <thead>\n",
       "    <tr style=\"text-align: right;\">\n",
       "      <th></th>\n",
       "      <th>train</th>\n",
       "      <th>target</th>\n",
       "    </tr>\n",
       "  </thead>\n",
       "  <tbody>\n",
       "    <tr>\n",
       "      <th>0</th>\n",
       "      <td>Вопрос о деятельности социополитических систем...</td>\n",
       "      <td>В функционировании социально-политических сист...</td>\n",
       "    </tr>\n",
       "    <tr>\n",
       "      <th>1</th>\n",
       "      <td>- Подробнее: Существует понятие управления свя...</td>\n",
       "      <td>Кратко напомним, что такое управление с обратн...</td>\n",
       "    </tr>\n",
       "    <tr>\n",
       "      <th>2</th>\n",
       "      <td>Например, применение стимулирующей обратной св...</td>\n",
       "      <td>Стимулирующие обратные связи делят на положите...</td>\n",
       "    </tr>\n",
       "    <tr>\n",
       "      <th>3</th>\n",
       "      <td>- Общая форма организации для всех систем прос...</td>\n",
       "      <td>Общий для всех систем способ их организации пр...</td>\n",
       "    </tr>\n",
       "    <tr>\n",
       "      <th>4</th>\n",
       "      <td>Для связи, при которой предусмотрена система, ...</td>\n",
       "      <td>Обратные связи могут осуществляться как с помо...</td>\n",
       "    </tr>\n",
       "  </tbody>\n",
       "</table>\n",
       "</div>"
      ],
      "text/plain": [
       "                                               train  \\\n",
       "0  Вопрос о деятельности социополитических систем...   \n",
       "1  - Подробнее: Существует понятие управления свя...   \n",
       "2  Например, применение стимулирующей обратной св...   \n",
       "3  - Общая форма организации для всех систем прос...   \n",
       "4  Для связи, при которой предусмотрена система, ...   \n",
       "\n",
       "                                              target  \n",
       "0  В функционировании социально-политических сист...  \n",
       "1  Кратко напомним, что такое управление с обратн...  \n",
       "2  Стимулирующие обратные связи делят на положите...  \n",
       "3  Общий для всех систем способ их организации пр...  \n",
       "4  Обратные связи могут осуществляться как с помо...  "
      ]
     },
     "execution_count": 47,
     "metadata": {},
     "output_type": "execute_result"
    }
   ],
   "source": [
    "finetuning_data.head()"
   ]
  },
  {
   "cell_type": "code",
   "execution_count": 43,
   "metadata": {
    "execution": {
     "iopub.execute_input": "2025-03-18T20:14:43.899779Z",
     "iopub.status.busy": "2025-03-18T20:14:43.899471Z",
     "iopub.status.idle": "2025-03-18T20:14:49.017672Z",
     "shell.execute_reply": "2025-03-18T20:14:49.016970Z",
     "shell.execute_reply.started": "2025-03-18T20:14:43.899758Z"
    }
   },
   "outputs": [
    {
     "data": {
      "application/vnd.jupyter.widget-view+json": {
       "model_id": "5a6e2f6d513d42aca7b8eb0717275bf9",
       "version_major": 2,
       "version_minor": 0
      },
      "text/plain": [
       "  0%|          | 0/324 [00:00<?, ?it/s]"
      ]
     },
     "metadata": {},
     "output_type": "display_data"
    },
    {
     "name": "stdout",
     "output_type": "stream",
     "text": [
      "Средняя переплексия в маленьком датасете: 4.5989\n"
     ]
    }
   ],
   "source": [
    "print(f'Средняя переплексия в маленьком датасете: {get_gpt2_ppl_corpus(small_data[\"train\"]):.4f}')"
   ]
  },
  {
   "cell_type": "code",
   "execution_count": 44,
   "metadata": {
    "execution": {
     "iopub.execute_input": "2025-03-18T20:15:27.833430Z",
     "iopub.status.busy": "2025-03-18T20:15:27.833136Z",
     "iopub.status.idle": "2025-03-18T20:15:27.994045Z",
     "shell.execute_reply": "2025-03-18T20:15:27.993388Z",
     "shell.execute_reply.started": "2025-03-18T20:15:27.833409Z"
    }
   },
   "outputs": [
    {
     "name": "stdout",
     "output_type": "stream",
     "text": [
      "Средний BLEU в маленьком датасете: 0.1960\n"
     ]
    }
   ],
   "source": [
    "all_metrics = []\n",
    "for i in range(len(small_data)):\n",
    "    hypotheses = small_data['train'][i].split()\n",
    "    references = small_data['target'][i].split()\n",
    "    all_metrics.append(sentence_bleu([references], hypotheses))\n",
    "print(f'Средний BLEU в маленьком датасете: {np.mean(all_metrics):.4f}')"
   ]
  },
  {
   "cell_type": "code",
   "execution_count": 45,
   "metadata": {
    "execution": {
     "iopub.execute_input": "2025-03-18T20:16:24.150812Z",
     "iopub.status.busy": "2025-03-18T20:16:24.150492Z",
     "iopub.status.idle": "2025-03-18T20:16:32.666467Z",
     "shell.execute_reply": "2025-03-18T20:16:32.665709Z",
     "shell.execute_reply.started": "2025-03-18T20:16:24.150790Z"
    }
   },
   "outputs": [
    {
     "name": "stdout",
     "output_type": "stream",
     "text": [
      "Средний BERTScore в маленьком датасете: 0.8155\n"
     ]
    }
   ],
   "source": [
    "print(f'Средний BERTScore в маленьком датасете: {(np.mean(bertscore.compute(predictions=small_data[\"train\"], references=small_data[\"target\"], lang=\"ru\")[\"f1\"])):.4f}')"
   ]
  },
  {
   "cell_type": "markdown",
   "metadata": {},
   "source": [
    "# Дообучение T5 на маленьком датасете"
   ]
  },
  {
   "cell_type": "code",
   "execution_count": 4,
   "metadata": {
    "execution": {
     "iopub.execute_input": "2025-03-18T20:58:36.009554Z",
     "iopub.status.busy": "2025-03-18T20:58:36.009100Z",
     "iopub.status.idle": "2025-03-18T20:58:37.342355Z",
     "shell.execute_reply": "2025-03-18T20:58:37.341625Z",
     "shell.execute_reply.started": "2025-03-18T20:58:36.009516Z"
    }
   },
   "outputs": [],
   "source": [
    "from datasets import Dataset"
   ]
  },
  {
   "cell_type": "code",
   "execution_count": null,
   "metadata": {},
   "outputs": [],
   "source": []
  },
  {
   "cell_type": "code",
   "execution_count": null,
   "metadata": {},
   "outputs": [],
   "source": []
  },
  {
   "cell_type": "code",
   "execution_count": null,
   "metadata": {},
   "outputs": [],
   "source": []
  },
  {
   "cell_type": "code",
   "execution_count": null,
   "metadata": {},
   "outputs": [],
   "source": []
  }
 ],
 "metadata": {
  "colab": {
   "provenance": []
  },
  "kaggle": {
   "accelerator": "nvidiaTeslaT4",
   "dataSources": [
    {
     "datasetId": 6884836,
     "sourceId": 11051247,
     "sourceType": "datasetVersion"
    },
    {
     "datasetId": 6899070,
     "sourceId": 11071011,
     "sourceType": "datasetVersion"
    }
   ],
   "dockerImageVersionId": 30919,
   "isGpuEnabled": true,
   "isInternetEnabled": true,
   "language": "python",
   "sourceType": "notebook"
  },
  "kernelspec": {
   "display_name": "Python 3 (ipykernel)",
   "language": "python",
   "name": "python3"
  },
  "language_info": {
   "codemirror_mode": {
    "name": "ipython",
    "version": 3
   },
   "file_extension": ".py",
   "mimetype": "text/x-python",
   "name": "python",
   "nbconvert_exporter": "python",
   "pygments_lexer": "ipython3",
   "version": "3.10.7"
  }
 },
 "nbformat": 4,
 "nbformat_minor": 4
}
